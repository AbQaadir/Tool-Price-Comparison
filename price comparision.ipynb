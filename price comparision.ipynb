{
 "cells": [
  {
   "cell_type": "code",
   "execution_count": 2,
   "id": "initial_id",
   "metadata": {
    "ExecuteTime": {
     "end_time": "2023-08-26T09:42:17.168202800Z",
     "start_time": "2023-08-26T09:42:17.152603400Z"
    },
    "collapsed": true
   },
   "outputs": [],
   "source": [
    "import requests\n",
    "from bs4 import BeautifulSoup\n",
    "from selenium import webdriver\n",
    "from bs4 import BeautifulSoup\n",
    "import re\n",
    "\n",
    "user_agent = {'User-agent': 'Mozilla/5.0 (Windows NT 10.0; Win64; x64)'}"
   ]
  },
  {
   "cell_type": "code",
   "execution_count": 3,
   "id": "74198362c2e9e39e",
   "metadata": {
    "ExecuteTime": {
     "end_time": "2023-08-26T09:42:17.724739200Z",
     "start_time": "2023-08-26T09:42:17.711627200Z"
    },
    "collapsed": false
   },
   "outputs": [],
   "source": [
    "def extract_price_glomark(url):\n",
    "    try:\n",
    "        # Initialize the Firefox WebDriver\n",
    "        driver = webdriver.Firefox()\n",
    "\n",
    "        # Load the URL and maximize the window\n",
    "        driver.get(url)\n",
    "        driver.maximize_window()\n",
    "\n",
    "        # Get the page source\n",
    "        page_source = driver.page_source\n",
    "\n",
    "        # Use BeautifulSoup to parse the page source\n",
    "        soup = BeautifulSoup(page_source, 'html5lib')\n",
    "\n",
    "        # Find price elements using their ID\n",
    "        price_elements = soup.find_all('span', id='product-promotion-price')\n",
    "        # print(price_elements)\n",
    "\n",
    "        if price_elements:\n",
    "            # Extract the price text from the first matching element\n",
    "            price_text = price_elements[0].get_text()\n",
    "\n",
    "            # Use regular expression to extract the numeric value\n",
    "            price_match = re.search(r'Rs\\s*([\\d.,]+)', price_text)\n",
    "            if price_match:\n",
    "                price_value = price_match.group(1).replace(',', '')\n",
    "                return float(price_value)\n",
    "\n",
    "    except Exception as e:\n",
    "        print(\"Error:\", e)\n",
    "\n",
    "    finally:\n",
    "        # Close the WebDriver if it was successfully initialized\n",
    "        if driver:\n",
    "            driver.close()\n",
    "\n",
    "    return None"
   ]
  },
  {
   "cell_type": "code",
   "execution_count": 5,
   "id": "42569591bbb8dd1d",
   "metadata": {
    "ExecuteTime": {
     "end_time": "2023-08-26T09:42:33.700093Z",
     "start_time": "2023-08-26T09:42:18.454482300Z"
    },
    "collapsed": false
   },
   "outputs": [
    {
     "name": "stdout",
     "output_type": "stream",
     "text": [
      "105.0\n"
     ]
    }
   ],
   "source": [
    "print(extract_price_glomark('https://glomark.lk/coconut/p/11624'))"
   ]
  },
  {
   "cell_type": "code",
   "execution_count": 7,
   "id": "4af9ed14e45017bb",
   "metadata": {
    "ExecuteTime": {
     "end_time": "2023-08-26T09:42:35.576023300Z",
     "start_time": "2023-08-26T09:42:35.561653500Z"
    },
    "collapsed": false
   },
   "outputs": [],
   "source": [
    "def extract_price_laughs(url):\n",
    "    try:\n",
    "        response = requests.get(url, headers=user_agent)\n",
    "        response.raise_for_status()\n",
    "\n",
    "        soup = BeautifulSoup(response.content.decode('utf-8'), 'html.parser')\n",
    "\n",
    "        # Customize these based on the structure of the webpage\n",
    "        price_elements = soup.find_all('span', class_='price')\n",
    "        # testing purpose\n",
    "        # print(price_elements)\n",
    "\n",
    "        if price_elements:\n",
    "            # Extract the price text from the first matching element\n",
    "            price_text = price_elements[1].get_text()\n",
    "\n",
    "            # Use regular expression to extract the numeric value\n",
    "            price_match = re.search(r'Rs\\.\\s*([\\d.,]+)', price_text)\n",
    "            if price_match:\n",
    "                return float(price_match.group(1).replace(',', ''))\n",
    "\n",
    "    except requests.exceptions.RequestException as e:\n",
    "        print(\"Error:\", e)\n",
    "\n",
    "    return None"
   ]
  },
  {
   "cell_type": "code",
   "execution_count": 8,
   "id": "717eeb097a8d6cdd",
   "metadata": {
    "ExecuteTime": {
     "end_time": "2023-08-26T09:42:38.259623900Z",
     "start_time": "2023-08-26T09:42:37.148850700Z"
    },
    "collapsed": false
   },
   "outputs": [
    {
     "name": "stdout",
     "output_type": "stream",
     "text": [
      "95.0\n"
     ]
    }
   ],
   "source": [
    "print(extract_price_laughs('https://scrape-sm1.github.io/site1/COCONUT%20market1super.html'))"
   ]
  },
  {
   "cell_type": "code",
   "execution_count": 9,
   "id": "7604edd9216a8e7d",
   "metadata": {
    "ExecuteTime": {
     "end_time": "2023-08-26T09:42:39.258499Z",
     "start_time": "2023-08-26T09:42:39.242875300Z"
    },
    "collapsed": false
   },
   "outputs": [],
   "source": [
    "def extract_product_name_glomark(url):\n",
    "    try:\n",
    "        response = requests.get(url)\n",
    "        response.raise_for_status()\n",
    "\n",
    "        soup = BeautifulSoup(response.content, 'html.parser')\n",
    "\n",
    "        # Customize these based on the structure of the webpage\n",
    "        name_elements = soup.find_all('div', class_='product-title')\n",
    "        # testing purpose\n",
    "        # print(name_elements[0].getText())\n",
    "        \n",
    "        if name_elements:\n",
    "            # Extract the product name text from the first matching element\n",
    "            product_name = name_elements[0].get_text().strip()\n",
    "            return product_name\n",
    "\n",
    "    except requests.exceptions.RequestException as e:\n",
    "        print(\"Error:\", e)\n",
    "\n",
    "    return None"
   ]
  },
  {
   "cell_type": "code",
   "execution_count": 10,
   "id": "5b4b7a0f06cb8996",
   "metadata": {
    "ExecuteTime": {
     "end_time": "2023-08-26T09:42:45.122156800Z",
     "start_time": "2023-08-26T09:42:41.810171800Z"
    },
    "collapsed": false
   },
   "outputs": [
    {
     "name": "stdout",
     "output_type": "stream",
     "text": [
      "Coconut\n"
     ]
    }
   ],
   "source": [
    "print(extract_product_name_glomark('https://glomark.lk/coconut/p/11624'))"
   ]
  },
  {
   "cell_type": "code",
   "execution_count": 11,
   "id": "600e938167ad50ac",
   "metadata": {
    "ExecuteTime": {
     "end_time": "2023-08-26T09:42:46.532667600Z",
     "start_time": "2023-08-26T09:42:46.518381400Z"
    },
    "collapsed": false
   },
   "outputs": [],
   "source": [
    "def extract_product_name_laughs(url):\n",
    "    try:\n",
    "        response = requests.get(url)\n",
    "        response.raise_for_status()\n",
    "\n",
    "        soup = BeautifulSoup(response.content, 'html.parser')\n",
    "\n",
    "        # Customize these based on the structure of the webpage\n",
    "        name_elements = soup.find_all('div', class_='product-name')\n",
    "        # print(name_elements[0].get_text())\n",
    "\n",
    "        if name_elements :\n",
    "            product_name = name_elements[0].getText().strip()\n",
    "            return product_name\n",
    "\n",
    "    except requests.exceptions.RequestException as e:\n",
    "        print(\"Error:\", e)\n",
    "\n",
    "    return None\n"
   ]
  },
  {
   "cell_type": "code",
   "execution_count": 12,
   "id": "f8676d33ee28d875",
   "metadata": {
    "ExecuteTime": {
     "end_time": "2023-08-26T09:42:50.952662700Z",
     "start_time": "2023-08-26T09:42:49.858880500Z"
    },
    "collapsed": false
   },
   "outputs": [
    {
     "name": "stdout",
     "output_type": "stream",
     "text": [
      "COCONUT - Item#mr-2058\n"
     ]
    }
   ],
   "source": [
    "print(extract_product_name_laughs('https://scrape-sm1.github.io/site1/COCONUT%20market1super.html'))"
   ]
  },
  {
   "cell_type": "code",
   "execution_count": 13,
   "id": "76e0208f58cee2ac",
   "metadata": {
    "ExecuteTime": {
     "end_time": "2023-08-26T09:44:56.890328Z",
     "start_time": "2023-08-26T09:44:56.882458700Z"
    },
    "collapsed": false
   },
   "outputs": [],
   "source": [
    "def compare_prices(product_laughs, product_glomark):\n",
    "    # Extract price and product name from the Laughs website\n",
    "    laughs_price = extract_price_laughs(product_laughs)\n",
    "    laughs_product_name = extract_product_name_laughs(product_laughs)\n",
    "\n",
    "    # Extract price and product name from the Glomark website\n",
    "    glomark_price = extract_price_glomark(product_glomark)\n",
    "    glomark_product_name = extract_product_name_glomark(product_glomark)\n",
    "\n",
    "    # Print product information\n",
    "    print(f\"Laughs {laughs_product_name} Rs.: {laughs_price}\")\n",
    "    print(f\"Glomark {glomark_product_name} Rs.: {glomark_price}\")\n",
    "\n",
    "    # Compare prices and print the comparison result\n",
    "    if glomark_price > laughs_price:\n",
    "        print(f\"Laughs is cheaper Rs.: {glomark_price - laughs_price}\")\n",
    "    else:\n",
    "        print(f\"Glomark is cheaper Rs.: {laughs_price - glomark_price}\")"
   ]
  },
  {
   "cell_type": "code",
   "execution_count": 14,
   "id": "5aad3279c0d11bf2",
   "metadata": {
    "ExecuteTime": {
     "end_time": "2023-08-26T09:45:17.950931300Z",
     "start_time": "2023-08-26T09:44:57.885095900Z"
    },
    "collapsed": false
   },
   "outputs": [
    {
     "name": "stdout",
     "output_type": "stream",
     "text": [
      "Laughs COCONUT - Item#mr-2058 Rs.: 95.0\n",
      "Glomark Coconut Rs.: 105.0\n",
      "Laughs is cheaper Rs.: 10.0\n"
     ]
    }
   ],
   "source": [
    "# Example usage\n",
    "product_laughs_url = 'https://scrape-sm1.github.io/site1/COCONUT%20market1super.html'\n",
    "product_glomark_url = 'https://glomark.lk/coconut/p/11624'\n",
    "compare_prices(product_laughs_url, product_glomark_url)"
   ]
  },
  {
   "cell_type": "code",
   "execution_count": null,
   "id": "8bb58e2e8e0572c8",
   "metadata": {
    "collapsed": false
   },
   "outputs": [],
   "source": []
  }
 ],
 "metadata": {
  "kernelspec": {
   "display_name": "Python 3",
   "language": "python",
   "name": "python3"
  },
  "language_info": {
   "codemirror_mode": {
    "name": "ipython",
    "version": 3
   },
   "file_extension": ".py",
   "mimetype": "text/x-python",
   "name": "python",
   "nbconvert_exporter": "python",
   "pygments_lexer": "ipython3",
   "version": "3.10.9"
  }
 },
 "nbformat": 4,
 "nbformat_minor": 5
}
